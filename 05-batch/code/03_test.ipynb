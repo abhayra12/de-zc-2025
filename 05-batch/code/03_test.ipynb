{
 "cells": [
  {
   "cell_type": "code",
   "execution_count": 33,
   "id": "72505747",
   "metadata": {
    "vscode": {
     "languageId": "shellscript"
    }
   },
   "outputs": [],
   "source": [
    "import pyspark"
   ]
  },
  {
   "cell_type": "code",
   "execution_count": 34,
   "id": "bd55afbe",
   "metadata": {
    "vscode": {
     "languageId": "shellscript"
    }
   },
   "outputs": [
    {
     "data": {
      "text/plain": [
       "'C:\\\\Users\\\\dell\\\\AppData\\\\Roaming\\\\Python\\\\Python312\\\\site-packages\\\\pyspark\\\\__init__.py'"
      ]
     },
     "execution_count": 34,
     "metadata": {},
     "output_type": "execute_result"
    }
   ],
   "source": [
    "pyspark.__file__"
   ]
  },
  {
   "cell_type": "code",
   "execution_count": 35,
   "id": "29f1cf4c",
   "metadata": {
    "vscode": {
     "languageId": "shellscript"
    }
   },
   "outputs": [],
   "source": [
    "from pyspark.sql import SparkSession"
   ]
  },
  {
   "cell_type": "code",
   "execution_count": 36,
   "id": "cf6d80ad",
   "metadata": {
    "vscode": {
     "languageId": "shellscript"
    }
   },
   "outputs": [],
   "source": [
    "spark = SparkSession.builder \\\n",
    "    .master(\"local[*]\") \\\n",
    "    .appName('test') \\\n",
    "    .getOrCreate()"
   ]
  },
  {
   "cell_type": "markdown",
   "id": "3e72b3f1",
   "metadata": {},
   "source": [
    "If wget not workd (windows) use curl"
   ]
  },
  {
   "cell_type": "code",
   "execution_count": 37,
   "id": "5669cb85",
   "metadata": {
    "vscode": {
     "languageId": "shellscript"
    }
   },
   "outputs": [
    {
     "name": "stderr",
     "output_type": "stream",
     "text": [
      "  % Total    % Received % Xferd  Average Speed   Time    Time     Time  Current\n",
      "                                 Dload  Upload   Total   Spent    Left  Speed\n",
      "\n",
      "  0     0    0     0    0     0      0      0 --:--:-- --:--:-- --:--:--     0\n",
      "  0     0    0     0    0     0      0      0 --:--:-- --:--:-- --:--:--     0\n",
      "  0     0    0     0    0     0      0      0 --:--:-- --:--:-- --:--:--     0\n",
      "\n",
      "  0     0    0     0    0     0      0      0 --:--:--  0:00:01 --:--:--     0\n",
      "100 12322  100 12322    0     0   6553      0  0:00:01  0:00:01 --:--:--  128k\n"
     ]
    }
   ],
   "source": [
    "# Download the taxi zone lookup data from the DataTalksClub mirror\n",
    "!curl -L -o taxi_zone_lookup.csv https://github.com/DataTalksClub/nyc-tlc-data/releases/download/misc/taxi_zone_lookup.csv"
   ]
  },
  {
   "cell_type": "code",
   "execution_count": 38,
   "id": "12342345",
   "metadata": {
    "vscode": {
     "languageId": "shellscript"
    }
   },
   "outputs": [
    {
     "name": "stdout",
     "output_type": "stream",
     "text": [
      "\"LocationID\",\"Borough\",\"Zone\",\"service_zone\"\n",
      "1,\"EWR\",\"Newark Airport\",\"EWR\"\n",
      "2,\"Queens\",\"Jamaica Bay\",\"Boro Zone\"\n",
      "3,\"Bronx\",\"Allerton/Pelham Gardens\",\"Boro Zone\"\n",
      "4,\"Manhattan\",\"Alphabet City\",\"Yellow Zone\"\n",
      "5,\"Staten Island\",\"Arden Heights\",\"Boro Zone\"\n",
      "6,\"Staten Island\",\"Arrochar/Fort Wadsworth\",\"Boro Zone\"\n",
      "7,\"Queens\",\"Astoria\",\"Boro Zone\"\n",
      "8,\"Queens\",\"Astoria Park\",\"Boro Zone\"\n",
      "9,\"Queens\",\"Auburndale\",\"Boro Zone\"\n"
     ]
    }
   ],
   "source": [
    "%%bash\n",
    "head taxi_zone_lookup.csv"
   ]
  },
  {
   "cell_type": "code",
   "execution_count": 39,
   "id": "809464d0",
   "metadata": {
    "vscode": {
     "languageId": "shellscript"
    }
   },
   "outputs": [],
   "source": [
    "df = spark.read \\\n",
    "    .option(\"header\", \"true\") \\\n",
    "    .csv('taxi_zone_lookup.csv')"
   ]
  },
  {
   "cell_type": "code",
   "execution_count": 40,
   "id": "e36dd996",
   "metadata": {
    "vscode": {
     "languageId": "shellscript"
    }
   },
   "outputs": [
    {
     "name": "stdout",
     "output_type": "stream",
     "text": [
      "+----------+-------------+--------------------+------------+\n",
      "|LocationID|      Borough|                Zone|service_zone|\n",
      "+----------+-------------+--------------------+------------+\n",
      "|         1|          EWR|      Newark Airport|         EWR|\n",
      "|         2|       Queens|         Jamaica Bay|   Boro Zone|\n",
      "|         3|        Bronx|Allerton/Pelham G...|   Boro Zone|\n",
      "|         4|    Manhattan|       Alphabet City| Yellow Zone|\n",
      "|         5|Staten Island|       Arden Heights|   Boro Zone|\n",
      "|         6|Staten Island|Arrochar/Fort Wad...|   Boro Zone|\n",
      "|         7|       Queens|             Astoria|   Boro Zone|\n",
      "|         8|       Queens|        Astoria Park|   Boro Zone|\n",
      "|         9|       Queens|          Auburndale|   Boro Zone|\n",
      "|        10|       Queens|        Baisley Park|   Boro Zone|\n",
      "|        11|     Brooklyn|          Bath Beach|   Boro Zone|\n",
      "|        12|    Manhattan|        Battery Park| Yellow Zone|\n",
      "|        13|    Manhattan|   Battery Park City| Yellow Zone|\n",
      "|        14|     Brooklyn|           Bay Ridge|   Boro Zone|\n",
      "|        15|       Queens|Bay Terrace/Fort ...|   Boro Zone|\n",
      "|        16|       Queens|             Bayside|   Boro Zone|\n",
      "|        17|     Brooklyn|             Bedford|   Boro Zone|\n",
      "|        18|        Bronx|        Bedford Park|   Boro Zone|\n",
      "|        19|       Queens|           Bellerose|   Boro Zone|\n",
      "|        20|        Bronx|             Belmont|   Boro Zone|\n",
      "+----------+-------------+--------------------+------------+\n",
      "only showing top 20 rows\n",
      "\n"
     ]
    }
   ],
   "source": [
    "df.show()"
   ]
  },
  {
   "cell_type": "code",
   "execution_count": 41,
   "id": "cb547351",
   "metadata": {
    "scrolled": true,
    "vscode": {
     "languageId": "shellscript"
    }
   },
   "outputs": [],
   "source": [
    "# Write the data in the Parquet format also add mode 'overwrite' to avoid errors\n",
    "df.write.mode('overwrite').parquet('zones')"
   ]
  },
  {
   "cell_type": "code",
   "execution_count": 42,
   "id": "02fe2bdb",
   "metadata": {
    "vscode": {
     "languageId": "shellscript"
    }
   },
   "outputs": [
    {
     "name": "stdout",
     "output_type": "stream",
     "text": [
      "total 156K\n",
      "-rwxrwxrwx 1 abhay-ahirkar abhay-ahirkar 8.1K Mar  3 16:33 03_test.ipynb\n",
      "-rwxrwxrwx 1 abhay-ahirkar abhay-ahirkar  19K Jan 27 11:56 04_pyspark.ipynb\n",
      "-rwxrwxrwx 1 abhay-ahirkar abhay-ahirkar  33K Mar  3 16:34 05_taxi_schema.ipynb\n",
      "-rwxrwxrwx 1 abhay-ahirkar abhay-ahirkar 9.0K Jan 27 11:56 06_spark_sql.ipynb\n",
      "-rwxrwxrwx 1 abhay-ahirkar abhay-ahirkar 2.6K Jan 27 11:56 06_spark_sql.py\n",
      "-rwxrwxrwx 1 abhay-ahirkar abhay-ahirkar 2.8K Jan 27 11:56 06_spark_sql_big_query.py\n",
      "-rwxrwxrwx 1 abhay-ahirkar abhay-ahirkar 7.9K Jan 27 11:56 07_groupby_join.ipynb\n",
      "-rwxrwxrwx 1 abhay-ahirkar abhay-ahirkar  12K Jan 27 11:56 08_rdds.ipynb\n",
      "-rwxrwxrwx 1 abhay-ahirkar abhay-ahirkar 4.5K Jan 27 11:56 09_spark_gcs.ipynb\n",
      "-rwxrwxrwx 1 abhay-ahirkar abhay-ahirkar 3.3K Feb 16 07:44 cloud.md\n",
      "-rwxrwxrwx 1 abhay-ahirkar abhay-ahirkar  566 Jan 27 11:56 download_data.sh\n",
      "-rwxrwxrwx 1 abhay-ahirkar abhay-ahirkar  17K Jan 27 11:56 homework.ipynb\n",
      "-rwxrwxrwx 1 abhay-ahirkar abhay-ahirkar  13K Mar  3 16:34 taxi_zone_lookup.csv\n",
      "drwxrwxrwx 1 abhay-ahirkar abhay-ahirkar 4.0K Mar  3 16:34 zones\n"
     ]
    }
   ],
   "source": [
    "%%bash\n",
    "ls -lh"
   ]
  }
 ],
 "metadata": {
  "kernelspec": {
   "display_name": "Python 3",
   "language": "python",
   "name": "python3"
  },
  "language_info": {
   "codemirror_mode": {
    "name": "ipython",
    "version": 3
   },
   "file_extension": ".py",
   "mimetype": "text/x-python",
   "name": "python",
   "nbconvert_exporter": "python",
   "pygments_lexer": "ipython3",
   "version": "3.12.6"
  }
 },
 "nbformat": 4,
 "nbformat_minor": 5
}
